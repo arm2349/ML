{
  "nbformat": 4,
  "nbformat_minor": 0,
  "metadata": {
    "colab": {
      "provenance": [],
      "authorship_tag": "ABX9TyPZTBmN/Atf9J8NZuESAe5J",
      "include_colab_link": true
    },
    "kernelspec": {
      "name": "python3",
      "display_name": "Python 3"
    },
    "language_info": {
      "name": "python"
    }
  },
  "cells": [
    {
      "cell_type": "markdown",
      "metadata": {
        "id": "view-in-github",
        "colab_type": "text"
      },
      "source": [
        "<a href=\"https://colab.research.google.com/github/arm2349/ML/blob/main/CNNPracticeWithMNIST.ipynb\" target=\"_parent\"><img src=\"https://colab.research.google.com/assets/colab-badge.svg\" alt=\"Open In Colab\"/></a>"
      ]
    },
    {
      "cell_type": "code",
      "source": [
        "from tensorflow.keras.datasets import mnist\n",
        "\n",
        "# Load MNIST dataset\n",
        "(train_images, train_labels), (test_images, test_labels) = mnist.load_data()\n"
      ],
      "metadata": {
        "id": "T2i1vq00SM7A"
      },
      "execution_count": null,
      "outputs": []
    },
    {
      "cell_type": "code",
      "source": [
        "import tensorflow as tf\n",
        "from tensorflow.keras.utils import to_categorical\n",
        "# Preprocess training data\n",
        "train_images = train_images.astype('float32') / 255.0  # Normalize pixel values\n",
        "train_images = train_images.reshape((train_images.shape[0], 28, 28, 1))  # Add channel dimension\n",
        "train_labels = to_categorical(train_labels)  # One-hot encode labels\n",
        "\n",
        "# Preprocess testing data\n",
        "test_images = test_images.astype('float32') / 255.0  # Normalize pixel values\n",
        "test_images = test_images.reshape((test_images.shape[0], 28, 28, 1))  # Add channel dimension\n",
        "test_labels = to_categorical(test_labels)  # One-hot encode labels\n"
      ],
      "metadata": {
        "id": "ffpbCH-OSc2i"
      },
      "execution_count": null,
      "outputs": []
    },
    {
      "cell_type": "code",
      "source": [
        "from tensorflow.keras import layers, models\n",
        "\n",
        "model = models.Sequential()\n",
        "# First convolutional layer and pooling layer with pool size and stride 2\n",
        "model.add(layers.Conv2D(32, (3, 3), activation='relu', input_shape=(28, 28, 1)))\n",
        "model.add(layers.MaxPooling2D(pool_size=(2, 2)))"
      ],
      "metadata": {
        "id": "lA8HkCSeTxz4"
      },
      "execution_count": null,
      "outputs": []
    },
    {
      "cell_type": "code",
      "source": [
        "# Second convolutional layer and pooling layer\n",
        "model.add(layers.Conv2D(64, (3, 3), activation='relu'))\n",
        "model.add(layers.MaxPooling2D((2, 2)))\n",
        "\n",
        "# Third convolutional and pooling layer\n",
        "model.add(layers.Conv2D(128, (3, 3), activation='relu'))\n",
        "model.add(layers.MaxPooling2D((2, 2)))"
      ],
      "metadata": {
        "id": "kLRDMacgUS7d"
      },
      "execution_count": null,
      "outputs": []
    },
    {
      "cell_type": "code",
      "source": [
        "# Flatten layer to remove spatial dimensions\n",
        "model.add(layers.Flatten())\n",
        "\n",
        "# Two fully connected layers\n",
        "model.add(layers.Dense(128, activation='relu'))\n",
        "model.add(layers.Dense(64, activation='relu'))\n",
        "\n",
        "# Output layer\n",
        "model.add(layers.Dense(10, activation='softmax'))  # 10 classes for MNIST"
      ],
      "metadata": {
        "id": "NpjDOUysWHuD"
      },
      "execution_count": null,
      "outputs": []
    },
    {
      "cell_type": "code",
      "source": [
        "model.summary()"
      ],
      "metadata": {
        "colab": {
          "base_uri": "https://localhost:8080/"
        },
        "id": "HfdMHL8VYKeE",
        "outputId": "a83afb5d-0872-42ea-ec2f-63f15e7e4a27"
      },
      "execution_count": null,
      "outputs": [
        {
          "output_type": "stream",
          "name": "stdout",
          "text": [
            "Model: \"sequential\"\n",
            "_________________________________________________________________\n",
            " Layer (type)                Output Shape              Param #   \n",
            "=================================================================\n",
            " conv2d (Conv2D)             (None, 26, 26, 32)        320       \n",
            "                                                                 \n",
            " max_pooling2d (MaxPooling2  (None, 13, 13, 32)        0         \n",
            " D)                                                              \n",
            "                                                                 \n",
            " conv2d_1 (Conv2D)           (None, 11, 11, 64)        18496     \n",
            "                                                                 \n",
            " max_pooling2d_1 (MaxPoolin  (None, 5, 5, 64)          0         \n",
            " g2D)                                                            \n",
            "                                                                 \n",
            " conv2d_2 (Conv2D)           (None, 3, 3, 128)         73856     \n",
            "                                                                 \n",
            " max_pooling2d_2 (MaxPoolin  (None, 1, 1, 128)         0         \n",
            " g2D)                                                            \n",
            "                                                                 \n",
            " flatten (Flatten)           (None, 128)               0         \n",
            "                                                                 \n",
            " dense (Dense)               (None, 128)               16512     \n",
            "                                                                 \n",
            " dense_1 (Dense)             (None, 64)                8256      \n",
            "                                                                 \n",
            " dense_2 (Dense)             (None, 10)                650       \n",
            "                                                                 \n",
            "=================================================================\n",
            "Total params: 118090 (461.29 KB)\n",
            "Trainable params: 118090 (461.29 KB)\n",
            "Non-trainable params: 0 (0.00 Byte)\n",
            "_________________________________________________________________\n"
          ]
        }
      ]
    },
    {
      "cell_type": "code",
      "source": [
        "# Compile and fit the model\n",
        "model.compile(optimizer='adam',\n",
        "              loss='categorical_crossentropy',\n",
        "              metrics=['accuracy'])\n",
        "# Train the model\n",
        "model.fit(train_images, train_labels, epochs=5, batch_size=64, validation_split=0.2)"
      ],
      "metadata": {
        "colab": {
          "base_uri": "https://localhost:8080/"
        },
        "id": "5SfQtnu0XNB1",
        "outputId": "a3f63f3c-f803-4b9e-e9f4-c5e17b514cea"
      },
      "execution_count": null,
      "outputs": [
        {
          "output_type": "stream",
          "name": "stdout",
          "text": [
            "Epoch 1/5\n",
            "750/750 [==============================] - 47s 60ms/step - loss: 0.3013 - accuracy: 0.9060 - val_loss: 0.1176 - val_accuracy: 0.9649\n",
            "Epoch 2/5\n",
            "750/750 [==============================] - 45s 61ms/step - loss: 0.0867 - accuracy: 0.9730 - val_loss: 0.0707 - val_accuracy: 0.9777\n",
            "Epoch 3/5\n",
            "750/750 [==============================] - 44s 58ms/step - loss: 0.0624 - accuracy: 0.9804 - val_loss: 0.0602 - val_accuracy: 0.9820\n",
            "Epoch 4/5\n",
            "750/750 [==============================] - 43s 58ms/step - loss: 0.0473 - accuracy: 0.9847 - val_loss: 0.0433 - val_accuracy: 0.9877\n",
            "Epoch 5/5\n",
            "750/750 [==============================] - 43s 58ms/step - loss: 0.0366 - accuracy: 0.9885 - val_loss: 0.0581 - val_accuracy: 0.9826\n"
          ]
        },
        {
          "output_type": "execute_result",
          "data": {
            "text/plain": [
              "<keras.src.callbacks.History at 0x7fb41691cd00>"
            ]
          },
          "metadata": {},
          "execution_count": 8
        }
      ]
    },
    {
      "cell_type": "code",
      "source": [
        "# Evaluate the model on the test data\n",
        "test_loss, accuracy = model.evaluate(test_images, test_labels)\n",
        "\n",
        "print(f'Test Loss: {test_loss}')\n",
        "print(f'Test Accuracy: {accuracy}')\n",
        "# print(f'Test Precision: {precision}')\n",
        "# print(f'Test Recall: {recall}')\n",
        "# print(f'Test F1 Score: {f1}')\n",
        "# print(f'Test AUC: {auc}')\n"
      ],
      "metadata": {
        "colab": {
          "base_uri": "https://localhost:8080/"
        },
        "id": "-EZxzGjFXq53",
        "outputId": "fd6f2004-7d91-455c-97d0-06a757697434"
      },
      "execution_count": null,
      "outputs": [
        {
          "output_type": "stream",
          "name": "stdout",
          "text": [
            "313/313 [==============================] - 3s 9ms/step - loss: 0.0567 - accuracy: 0.9826\n",
            "Test Loss: 0.05671339109539986\n",
            "Test Accuracy: 0.9825999736785889\n"
          ]
        }
      ]
    }
  ]
}